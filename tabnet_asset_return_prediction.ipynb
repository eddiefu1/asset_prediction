{
 "cells": [
  {
   "cell_type": "code",
   "execution_count": null,
   "id": "7ca203eb",
   "metadata": {},
   "outputs": [],
   "source": [
    "\n",
    "!pip install pytorch-tabnet\n"
   ]
  },
  {
   "cell_type": "code",
   "execution_count": null,
   "id": "d4b94309",
   "metadata": {},
   "outputs": [],
   "source": [
    "\n",
    "import pandas as pd\n",
    "import numpy as np\n",
    "from sklearn.preprocessing import LabelEncoder\n",
    "from sklearn.model_selection import train_test_split\n",
    "from pytorch_tabnet.tab_model import TabNetRegressor\n",
    "import matplotlib.pyplot as plt\n"
   ]
  },
  {
   "cell_type": "code",
   "execution_count": null,
   "id": "875d0f91",
   "metadata": {},
   "outputs": [],
   "source": [
    "\n",
    "# Example DataFrame loading - replace with actual data\n",
    "# df = pd.read_csv('your_data.csv')\n",
    "# Assuming 'target' is your prediction column\n",
    "\n",
    "# Sample placeholder\n",
    "df = pd.DataFrame({\n",
    "    'feature1': np.random.rand(1000),\n",
    "    'feature2': np.random.randint(0, 5, size=1000),\n",
    "    'target': np.random.rand(1000)\n",
    "})\n",
    "\n",
    "X = df.drop(columns=[\"target\"])\n",
    "y = df[\"target\"].values\n",
    "\n",
    "# Encode categorical features if any\n",
    "for col in X.select_dtypes(\"object\").columns:\n",
    "    le = LabelEncoder()\n",
    "    X[col] = le.fit_transform(X[col])\n",
    "\n",
    "X_train, X_valid, y_train, y_valid = train_test_split(X.values, y, test_size=0.2, random_state=42)\n"
   ]
  },
  {
   "cell_type": "code",
   "execution_count": null,
   "id": "f798a712",
   "metadata": {},
   "outputs": [],
   "source": [
    "\n",
    "tabnet = TabNetRegressor(verbose=1)\n",
    "\n",
    "tabnet.fit(\n",
    "    X_train=X_train, y_train=y_train.reshape(-1, 1),\n",
    "    eval_set=[(X_valid, y_valid.reshape(-1, 1))],\n",
    "    eval_name=[\"val\"],\n",
    "    eval_metric=[\"rmse\"],\n",
    "    max_epochs=200,\n",
    "    patience=10,\n",
    "    batch_size=1024,\n",
    "    virtual_batch_size=128,\n",
    "    num_workers=0\n",
    ")\n"
   ]
  },
  {
   "cell_type": "code",
   "execution_count": null,
   "id": "b15baa02",
   "metadata": {},
   "outputs": [],
   "source": [
    "\n",
    "preds = tabnet.predict(X_valid)\n",
    "\n",
    "# Basic evaluation\n",
    "from sklearn.metrics import mean_squared_error\n",
    "print(\"RMSE:\", mean_squared_error(y_valid, preds, squared=False))\n"
   ]
  },
  {
   "cell_type": "code",
   "execution_count": null,
   "id": "afb85856",
   "metadata": {},
   "outputs": [],
   "source": [
    "\n",
    "plt.figure(figsize=(10, 6))\n",
    "plt.barh(df.drop(columns=[\"target\"]).columns, tabnet.feature_importances_)\n",
    "plt.title(\"TabNet Feature Importances\")\n",
    "plt.xlabel(\"Importance\")\n",
    "plt.show()\n"
   ]
  }
 ],
 "metadata": {},
 "nbformat": 4,
 "nbformat_minor": 5
}
