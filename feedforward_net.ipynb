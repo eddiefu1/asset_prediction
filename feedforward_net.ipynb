{
  "cells": [
    {
      "cell_type": "markdown",
      "id": "fa8c7e03",
      "metadata": {
        "id": "fa8c7e03"
      },
      "source": [
        "# MGTF 424 Final Project\n",
        "This notebook builds a baseline model to predict `return_on_asset` using panel data with anonymized indicators."
      ]
    },
    {
      "cell_type": "code",
      "execution_count": 49,
      "id": "5140c0d2",
      "metadata": {
        "id": "5140c0d2"
      },
      "outputs": [],
      "source": [
        "import pandas as pd\n",
        "import numpy as np\n",
        "from sklearn.ensemble import RandomForestRegressor\n",
        "from sklearn.impute import SimpleImputer\n",
        "from sklearn.model_selection import GroupKFold\n",
        "from sklearn.metrics import mean_absolute_error\n",
        "\n",
        "# Load data\n",
        "train_df = pd.read_csv(\"train.csv\")\n",
        "test_df = pd.read_csv(\"test.csv\")\n",
        "sample_submission_df = pd.read_csv(\"sample_submission.csv\")\n"
      ]
    },
    {
      "cell_type": "code",
      "execution_count": 50,
      "id": "4edc1d69",
      "metadata": {
        "vscode": {
          "languageId": "ruby"
        }
      },
      "outputs": [],
      "source": [
        "# from sklearn.preprocessing import StandardScaler\n",
        "\n",
        "# # Remove outliers from train_df based on return_on_asset (e.g., 1st and 99th percentiles)\n",
        "# q_low = train_df['return_on_asset'].quantile(0.01)\n",
        "# q_high = train_df['return_on_asset'].quantile(0.99)\n",
        "# train_df_clean = train_df[(train_df['return_on_asset'] >= q_low) & (train_df['return_on_asset'] <= q_high)].copy()\n",
        "\n",
        "# # Normalize target\n",
        "# scaler = StandardScaler()\n",
        "# train_df_clean['return_on_asset_norm'] = scaler.fit_transform(train_df_clean[['return_on_asset']])\n",
        "\n",
        "# # Add lag features and rolling stats for each asset_id\n",
        "# lag_features = []\n",
        "# rolling_features = []\n",
        "# window = 3\n",
        "\n",
        "# for col in [c for c in train_df_clean.columns if c.startswith('indicator_')]:\n",
        "#     # Lag 1\n",
        "#     lag_col = f\"{col}_lag1\"\n",
        "#     train_df_clean[lag_col] = train_df_clean.groupby('asset_id')[col].shift(1)\n",
        "#     lag_features.append(lag_col)\n",
        "#     # Rolling mean\n",
        "#     roll_mean_col = f\"{col}_roll{window}_mean\"\n",
        "#     train_df_clean[roll_mean_col] = train_df_clean.groupby('asset_id')[col].rolling(window, min_periods=1).mean().reset_index(level=0, drop=True)\n",
        "#     rolling_features.append(roll_mean_col)\n",
        "#     # Rolling std\n",
        "#     roll_std_col = f\"{col}_roll{window}_std\"\n",
        "#     train_df_clean[roll_std_col] = train_df_clean.groupby('asset_id')[col].rolling(window, min_periods=1).std().reset_index(level=0, drop=True)\n",
        "#     rolling_features.append(roll_std_col)\n",
        "\n",
        "# # Drop rows with NaN after lagging (optional, or impute later)\n",
        "# train_df_clean = train_df_clean.dropna(subset=lag_features)"
      ]
    },
    {
      "cell_type": "code",
      "execution_count": 51,
      "id": "899c0baf",
      "metadata": {
        "id": "899c0baf"
      },
      "outputs": [],
      "source": [
        "# Step 1: Aggregate features\n",
        "def aggregate_features(df, is_train=True):\n",
        "    agg_funcs = ['mean', 'std', 'min', 'max']\n",
        "    feature_cols = [col for col in df.columns if col.startswith(\"indicator_\")]\n",
        "\n",
        "    aggregated = df.groupby('asset_id')[feature_cols].agg(agg_funcs)\n",
        "    aggregated.columns = ['_'.join(col).strip() for col in aggregated.columns.values]\n",
        "\n",
        "    if is_train:\n",
        "        static_cols = ['return_on_asset', 'company_age', 'company_size', 'revenue']\n",
        "    else:\n",
        "        static_cols = ['company_age', 'company_size', 'revenue']\n",
        "\n",
        "    static_info = df.groupby('asset_id')[static_cols].first()\n",
        "    return aggregated.join(static_info)\n",
        "\n",
        "train_agg = aggregate_features(train_df, is_train=True)\n",
        "test_agg = aggregate_features(test_df, is_train=False)\n"
      ]
    },
    {
      "cell_type": "code",
      "execution_count": 52,
      "id": "c89e92a4",
      "metadata": {
        "id": "c89e92a4"
      },
      "outputs": [],
      "source": [
        "# Step 2: Prepare training data\n",
        "X_train = train_agg.drop(columns=[\"return_on_asset\"])\n",
        "y_train = train_agg[\"return_on_asset\"]\n",
        "groups = train_agg.index\n",
        "\n",
        "# Step 3: Impute missing values\n",
        "imputer = SimpleImputer(strategy='mean')\n",
        "X_train_imputed = pd.DataFrame(imputer.fit_transform(X_train), index=X_train.index, columns=X_train.columns)\n",
        "test_agg_imputed = pd.DataFrame(imputer.transform(test_agg), index=test_agg.index, columns=test_agg.columns)\n"
      ]
    },
    {
      "cell_type": "code",
      "execution_count": 53,
      "id": "03aefd0a",
      "metadata": {
        "id": "03aefd0a",
        "outputId": "f62d8483-403b-4923-dd18-92a31bce2194"
      },
      "outputs": [
        {
          "name": "stdout",
          "output_type": "stream",
          "text": [
            "CV MAE scores: [8.220970873786406, 7.308725490196078, 7.278627450980392, 7.131078431372549, 7.444509803921568]\n",
            "Average MAE: 7.476782410051399\n"
          ]
        }
      ],
      "source": [
        "# Step 4: Cross-validated training\n",
        "cv = GroupKFold(n_splits=5)\n",
        "model = RandomForestRegressor(n_estimators=100, random_state=42, n_jobs=1)\n",
        "cv_scores = []\n",
        "\n",
        "for train_idx, val_idx in cv.split(X_train_imputed, y_train, groups):\n",
        "    X_tr, X_val = X_train_imputed.iloc[train_idx], X_train_imputed.iloc[val_idx]\n",
        "    y_tr, y_val = y_train.iloc[train_idx], y_train.iloc[val_idx]\n",
        "\n",
        "    model.fit(X_tr, y_tr)\n",
        "    preds = model.predict(X_val)\n",
        "    score = mean_absolute_error(y_val, preds)\n",
        "    cv_scores.append(score)\n",
        "\n",
        "print(\"CV MAE scores:\", cv_scores)\n",
        "print(\"Average MAE:\", np.mean(cv_scores))\n"
      ]
    },
    {
      "cell_type": "code",
      "execution_count": 54,
      "id": "b0d5377d",
      "metadata": {},
      "outputs": [],
      "source": [
        "# from pytorch_tabnet.tab_model import TabNetRegressor\n",
        "\n",
        "# Prepare data (already imputed)\n",
        "# X = X_train_imputed.values\n",
        "# y = y_train.values\n",
        "\n",
        "# TabNet expects numpy arrays for groups as well\n",
        "# groups_arr = np.array(list(groups))\n",
        "\n",
        "# Cross-validation with TabNet\n",
        "# cv = GroupKFold(n_splits=5)\n",
        "# tabnet_scores = []\n",
        "\n",
        "# for train_idx, val_idx in cv.split(X, y, groups_arr):\n",
        "#     X_tr, X_val = X[train_idx], X[val_idx]\n",
        "#     y_tr, y_val = y[train_idx], y[val_idx]\n",
        "\n",
        "#     tabnet = TabNetRegressor(verbose=0, seed=42)\n",
        "#     tabnet.fit(\n",
        "#         X_tr, y_tr.reshape(-1, 1),\n",
        "#         eval_set=[(X_val, y_val.reshape(-1, 1))],\n",
        "#         eval_metric=['mae'],\n",
        "#         max_epochs=200,\n",
        "#         patience=20,\n",
        "#         batch_size=256,\n",
        "#         virtual_batch_size=64\n",
        "#     )\n",
        "#     preds = tabnet.predict(X_val).reshape(-1)\n",
        "#     score = mean_absolute_error(y_val, preds)\n",
        "#     tabnet_scores.append(score)\n",
        "\n",
        "# print(\"TabNet CV MAE scores:\", tabnet_scores)\n",
        "# print(\"TabNet Average MAE:\", np.mean(tabnet_scores))"
      ]
    },
    {
      "cell_type": "code",
      "execution_count": 55,
      "id": "a06dcad0",
      "metadata": {},
      "outputs": [
        {
          "name": "stdout",
          "output_type": "stream",
          "text": [
            "MLP CV MAE scores: [8.038643836975098, 8.146652221679688, 8.009868621826172, 7.250156879425049, 8.26991081237793]\n",
            "MLP Average MAE: 7.9430464744567875\n"
          ]
        }
      ],
      "source": [
        "import torch\n",
        "from torch.utils.data import Dataset, DataLoader\n",
        "\n",
        "import torch.nn as nn\n",
        "import torch.optim as optim\n",
        "\n",
        "# Prepare data for PyTorch\n",
        "X = X_train_imputed.values.astype(np.float32)\n",
        "y = y_train.values.astype(np.float32).reshape(-1, 1)\n",
        "\n",
        "# Simple PyTorch Dataset\n",
        "class TabularDataset(Dataset):\n",
        "    def __init__(self, X, y):\n",
        "        self.X = X\n",
        "        self.y = y\n",
        "    def __len__(self):\n",
        "        return len(self.X)\n",
        "    def __getitem__(self, idx):\n",
        "        return self.X[idx], self.y[idx]\n",
        "\n",
        "# MLP Model with BatchNorm and Dropout\n",
        "class MLPRegressor(nn.Module):\n",
        "    def __init__(self, input_dim):\n",
        "        super().__init__()\n",
        "        self.net = nn.Sequential(\n",
        "            nn.Linear(input_dim, 128),\n",
        "            nn.BatchNorm1d(128),\n",
        "            nn.ReLU(),\n",
        "            nn.Dropout(0.3),\n",
        "            nn.Linear(128, 64),\n",
        "            nn.BatchNorm1d(64),\n",
        "            nn.ReLU(),\n",
        "            nn.Dropout(0.3),\n",
        "            nn.Linear(64, 1)\n",
        "        )\n",
        "    def forward(self, x):\n",
        "        return self.net(x)\n",
        "\n",
        "# Training loop with GroupKFold CV\n",
        "cv = GroupKFold(n_splits=5)\n",
        "cv_scores = []\n",
        "device = torch.device(\"cuda\" if torch.cuda.is_available() else \"cpu\")\n",
        "\n",
        "for train_idx, val_idx in cv.split(X, y, groups):\n",
        "    X_tr, X_val = X[train_idx], X[val_idx]\n",
        "    y_tr, y_val = y[train_idx], y[val_idx]\n",
        "\n",
        "    train_ds = TabularDataset(X_tr, y_tr)\n",
        "    val_ds = TabularDataset(X_val, y_val)\n",
        "    train_loader = DataLoader(train_ds, batch_size=64, shuffle=True)\n",
        "    val_loader = DataLoader(val_ds, batch_size=256, shuffle=False)\n",
        "\n",
        "    model = MLPRegressor(X.shape[1]).to(device)\n",
        "    optimizer = optim.AdamW(model.parameters(), lr=1e-3, weight_decay=1e-2)\n",
        "    criterion = nn.L1Loss()\n",
        "\n",
        "    # Training\n",
        "    best_val_loss = float('inf')\n",
        "    patience, patience_counter = 10, 0\n",
        "    for epoch in range(100):\n",
        "        model.train()\n",
        "        for xb, yb in train_loader:\n",
        "            xb, yb = xb.to(device), yb.to(device)\n",
        "            optimizer.zero_grad()\n",
        "            preds = model(xb)\n",
        "            loss = criterion(preds, yb)\n",
        "            loss.backward()\n",
        "            optimizer.step()\n",
        "        # Validation\n",
        "        model.eval()\n",
        "        val_losses = []\n",
        "        with torch.no_grad():\n",
        "            for xb, yb in val_loader:\n",
        "                xb, yb = xb.to(device), yb.to(device)\n",
        "                preds = model(xb)\n",
        "                val_losses.append(criterion(preds, yb).item())\n",
        "        val_loss = np.mean(val_losses)\n",
        "        if val_loss < best_val_loss:\n",
        "            best_val_loss = val_loss\n",
        "            patience_counter = 0\n",
        "        else:\n",
        "            patience_counter += 1\n",
        "        if patience_counter >= patience:\n",
        "            break\n",
        "    cv_scores.append(best_val_loss)\n",
        "\n",
        "print(\"MLP CV MAE scores:\", cv_scores)\n",
        "print(\"MLP Average MAE:\", np.mean(cv_scores))"
      ]
    },
    {
      "cell_type": "code",
      "execution_count": 56,
      "id": "36a27557",
      "metadata": {},
      "outputs": [
        {
          "name": "stdout",
          "output_type": "stream",
          "text": [
            "MLP CV MAE scores: [8.038643836975098, 8.146652221679688, 8.009868621826172, 7.250156879425049, 8.26991081237793]\n",
            "MLP Average MAE: 7.9430464744567875\n"
          ]
        }
      ],
      "source": [
        "from sklearn.preprocessing import StandardScaler\n",
        "\n",
        "# Standardize input features\n",
        "X_scaler = StandardScaler()\n",
        "X_tr_scaled = X_scaler.fit_transform(X[train_idx])\n",
        "X_val_scaled = X_scaler.transform(X[val_idx])\n",
        "\n",
        "# Standardize output (target)\n",
        "y_scaler = StandardScaler()\n",
        "y_tr_scaled = y_scaler.fit_transform(y[train_idx])\n",
        "y_val_scaled = y_scaler.transform(y[val_idx])\n",
        "\n",
        "# Update datasets with standardized data\n",
        "train_ds = TabularDataset(X_tr_scaled.astype(np.float32), y_tr_scaled.astype(np.float32))\n",
        "val_ds = TabularDataset(X_val_scaled.astype(np.float32), y_val_scaled.astype(np.float32))\n",
        "train_loader = DataLoader(train_ds, batch_size=64, shuffle=True)\n",
        "val_loader = DataLoader(val_ds, batch_size=256, shuffle=False)\n",
        "\n",
        "# Define balanced loss: average of MSE and MAE\n",
        "class BalancedLoss(nn.Module):\n",
        "    def __init__(self):\n",
        "        super().__init__()\n",
        "        self.mse = nn.MSELoss()\n",
        "        self.mae = nn.L1Loss()\n",
        "    def forward(self, pred, target):\n",
        "        return 0.5 * self.mse(pred, target) + 0.5 * self.mae(pred, target)\n",
        "\n",
        "criterion = BalancedLoss()\n",
        "print(\"MLP CV MAE scores:\", cv_scores)\n",
        "print(\"MLP Average MAE:\", np.mean(cv_scores))"
      ]
    },
    {
      "cell_type": "code",
      "execution_count": 57,
      "id": "2b3f6f60",
      "metadata": {
        "id": "2b3f6f60",
        "outputId": "fbcdd781-3f7a-4556-a0d7-b8060598cfec"
      },
      "outputs": [
        {
          "name": "stdout",
          "output_type": "stream",
          "text": [
            "Submission file saved as kaggle_submission.csv\n"
          ]
        }
      ],
      "source": [
        "# Step 5: Final model and prediction\n",
        "# Use the same MLPRegressor class and device as defined previously\n",
        "mlp_final = MLPRegressor(X_train_imputed.shape[1]).to(device)\n",
        "optimizer = optim.AdamW(mlp_final.parameters(), lr=1e-3, weight_decay=1e-2)\n",
        "criterion = nn.L1Loss()\n",
        "\n",
        "X_full = X_train_imputed.values.astype(np.float32)\n",
        "y_full = y_train.values.astype(np.float32).reshape(-1, 1)\n",
        "full_ds = TabularDataset(X_full, y_full)\n",
        "full_loader = DataLoader(full_ds, batch_size=64, shuffle=True)\n",
        "\n",
        "# Train on all data with early stopping\n",
        "best_loss = float('inf')\n",
        "patience, patience_counter = 10, 0\n",
        "for epoch in range(100):\n",
        "    mlp_final.train()\n",
        "    for xb, yb in full_loader:\n",
        "        xb, yb = xb.to(device), yb.to(device)\n",
        "        optimizer.zero_grad()\n",
        "        preds = mlp_final(xb)\n",
        "        loss = criterion(preds, yb)\n",
        "        loss.backward()\n",
        "        optimizer.step()\n",
        "    # Optionally, compute train loss for early stopping\n",
        "    mlp_final.eval()\n",
        "    train_losses = []\n",
        "    with torch.no_grad():\n",
        "        for xb, yb in full_loader:\n",
        "            xb, yb = xb.to(device), yb.to(device)\n",
        "            preds = mlp_final(xb)\n",
        "            train_losses.append(criterion(preds, yb).item())\n",
        "    train_loss = np.mean(train_losses)\n",
        "    if train_loss < best_loss:\n",
        "        best_loss = train_loss\n",
        "        patience_counter = 0\n",
        "    else:\n",
        "        patience_counter += 1\n",
        "    if patience_counter >= patience:\n",
        "        break\n",
        "\n",
        "# Predict on test set\n",
        "X_test = test_agg_imputed.values.astype(np.float32)\n",
        "mlp_final.eval()\n",
        "with torch.no_grad():\n",
        "    test_preds = mlp_final(torch.from_numpy(X_test).to(device)).cpu().numpy().reshape(-1)\n",
        "\n",
        "# Step 6: Create submission file\n",
        "submission = sample_submission_df.copy()\n",
        "submission['return_on_asset'] = submission['asset_id'].map(\n",
        "    dict(zip(test_agg.index, test_preds))\n",
        ").fillna(0)\n",
        "\n",
        "# Save the CSV file\n",
        "submission.to_csv(\"kaggle_submission.csv\", index=False)\n",
        "print(\"Submission file saved as kaggle_submission.csv\")\n"
      ]
    },
    {
      "cell_type": "code",
      "execution_count": null,
      "id": "39166c49",
      "metadata": {
        "id": "39166c49"
      },
      "outputs": [],
      "source": []
    }
  ],
  "metadata": {
    "colab": {
      "provenance": []
    },
    "kernelspec": {
      "display_name": "base",
      "language": "python",
      "name": "python3"
    },
    "language_info": {
      "codemirror_mode": {
        "name": "ipython",
        "version": 3
      },
      "file_extension": ".py",
      "mimetype": "text/x-python",
      "name": "python",
      "nbconvert_exporter": "python",
      "pygments_lexer": "ipython3",
      "version": "3.11.4"
    }
  },
  "nbformat": 4,
  "nbformat_minor": 5
}
