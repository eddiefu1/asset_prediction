{
  "cells": [
    {
      "cell_type": "markdown",
      "id": "fa8c7e03",
      "metadata": {
        "id": "fa8c7e03"
      },
      "source": [
        "# MGTF 424 Final Project\n",
        "This notebook builds a baseline model to predict `return_on_asset` using panel data with anonymized indicators."
      ]
    },
    {
      "cell_type": "code",
      "execution_count": null,
      "id": "5140c0d2",
      "metadata": {
        "id": "5140c0d2"
      },
      "outputs": [],
      "source": [
        "import pandas as pd\n",
        "import numpy as np\n",
        "from sklearn.ensemble import RandomForestRegressor\n",
        "from sklearn.impute import SimpleImputer\n",
        "from sklearn.model_selection import GroupKFold\n",
        "from sklearn.metrics import mean_absolute_error\n",
        "\n",
        "# Load data\n",
        "train_df = pd.read_csv(\"train.csv\")\n",
        "test_df = pd.read_csv(\"test.csv\")\n",
        "sample_submission_df = pd.read_csv(\"sample_submission.csv\")\n"
      ]
    },
    {
      "cell_type": "code",
      "execution_count": null,
      "id": "899c0baf",
      "metadata": {
        "id": "899c0baf"
      },
      "outputs": [],
      "source": [
        "# Step 1: Aggregate features\n",
        "def aggregate_features(df, is_train=True):\n",
        "    agg_funcs = ['mean', 'std', 'min', 'max']\n",
        "    feature_cols = [col for col in df.columns if col.startswith(\"indicator_\")]\n",
        "\n",
        "    aggregated = df.groupby('asset_id')[feature_cols].agg(agg_funcs)\n",
        "    aggregated.columns = ['_'.join(col).strip() for col in aggregated.columns.values]\n",
        "\n",
        "    if is_train:\n",
        "        static_cols = ['return_on_asset', 'company_age', 'company_size', 'revenue']\n",
        "    else:\n",
        "        static_cols = ['company_age', 'company_size', 'revenue']\n",
        "\n",
        "    static_info = df.groupby('asset_id')[static_cols].first()\n",
        "    return aggregated.join(static_info)\n",
        "\n",
        "train_agg = aggregate_features(train_df, is_train=True)\n",
        "test_agg = aggregate_features(test_df, is_train=False)\n"
      ]
    },
    {
      "cell_type": "code",
      "execution_count": null,
      "id": "c89e92a4",
      "metadata": {
        "id": "c89e92a4"
      },
      "outputs": [],
      "source": [
        "# Step 2: Prepare training data\n",
        "X_train = train_agg.drop(columns=[\"return_on_asset\"])\n",
        "y_train = train_agg[\"return_on_asset\"]\n",
        "groups = train_agg.index\n",
        "\n",
        "# Step 3: Impute missing values\n",
        "imputer = SimpleImputer(strategy='mean')\n",
        "X_train_imputed = pd.DataFrame(imputer.fit_transform(X_train), index=X_train.index, columns=X_train.columns)\n",
        "test_agg_imputed = pd.DataFrame(imputer.transform(test_agg), index=test_agg.index, columns=test_agg.columns)\n"
      ]
    },
    {
      "cell_type": "code",
      "execution_count": null,
      "id": "03aefd0a",
      "metadata": {
        "id": "03aefd0a",
        "outputId": "f62d8483-403b-4923-dd18-92a31bce2194"
      },
      "outputs": [
        {
          "name": "stdout",
          "output_type": "stream",
          "text": [
            "CV MAE scores: [8.220970873786406, 7.308725490196078, 7.278627450980392, 7.131078431372549, 7.444509803921568]\n",
            "Average MAE: 7.476782410051399\n"
          ]
        }
      ],
      "source": [
        "# Step 4: Cross-validated training\n",
        "cv = GroupKFold(n_splits=5)\n",
        "model = RandomForestRegressor(n_estimators=100, random_state=42, n_jobs=1)\n",
        "cv_scores = []\n",
        "\n",
        "for train_idx, val_idx in cv.split(X_train_imputed, y_train, groups):\n",
        "    X_tr, X_val = X_train_imputed.iloc[train_idx], X_train_imputed.iloc[val_idx]\n",
        "    y_tr, y_val = y_train.iloc[train_idx], y_train.iloc[val_idx]\n",
        "\n",
        "    model.fit(X_tr, y_tr)\n",
        "    preds = model.predict(X_val)\n",
        "    score = mean_absolute_error(y_val, preds)\n",
        "    cv_scores.append(score)\n",
        "\n",
        "print(\"CV MAE scores:\", cv_scores)\n",
        "print(\"Average MAE:\", np.mean(cv_scores))\n"
      ]
    },
    {
      "cell_type": "code",
      "execution_count": null,
      "id": "2b3f6f60",
      "metadata": {
        "id": "2b3f6f60",
        "outputId": "fbcdd781-3f7a-4556-a0d7-b8060598cfec"
      },
      "outputs": [
        {
          "name": "stdout",
          "output_type": "stream",
          "text": [
            "Submission file saved as kaggle_submission.csv\n"
          ]
        }
      ],
      "source": [
        "# Step 5: Final model and prediction\n",
        "final_model = RandomForestRegressor(n_estimators=100, random_state=42, n_jobs=1)\n",
        "final_model.fit(X_train_imputed, y_train)\n",
        "test_preds = final_model.predict(test_agg_imputed)\n",
        "\n",
        "# Step 6: Create submission file\n",
        "submission = sample_submission_df.copy()\n",
        "submission['return_on_asset'] = submission['asset_id'].map(\n",
        "    dict(zip(test_agg.index, test_preds))\n",
        ").fillna(0)\n",
        "\n",
        "# Save the CSV file\n",
        "submission.to_csv(\"kaggle_submission.csv\", index=False)\n",
        "print(\"Submission file saved as kaggle_submission.csv\")\n"
      ]
    },
    {
      "cell_type": "code",
      "execution_count": null,
      "id": "39166c49",
      "metadata": {
        "id": "39166c49"
      },
      "outputs": [],
      "source": []
    }
  ],
  "metadata": {
    "kernelspec": {
      "display_name": "Python 3 (ipykernel)",
      "language": "python",
      "name": "python3"
    },
    "language_info": {
      "codemirror_mode": {
        "name": "ipython",
        "version": 3
      },
      "file_extension": ".py",
      "mimetype": "text/x-python",
      "name": "python",
      "nbconvert_exporter": "python",
      "pygments_lexer": "ipython3",
      "version": "3.9.7"
    },
    "colab": {
      "provenance": []
    }
  },
  "nbformat": 4,
  "nbformat_minor": 5
}