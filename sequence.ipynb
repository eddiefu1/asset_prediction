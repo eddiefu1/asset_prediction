{
  "cells": [
    {
      "cell_type": "markdown",
      "id": "fa8c7e03",
      "metadata": {
        "id": "fa8c7e03"
      },
      "source": [
        "# MGTF 424 Final Project\n",
        "This notebook builds a baseline model to predict `return_on_asset` using panel data with anonymized indicators."
      ]
    },
    {
      "cell_type": "code",
      "execution_count": 20,
      "id": "5140c0d2",
      "metadata": {
        "id": "5140c0d2"
      },
      "outputs": [],
      "source": [
        "import pandas as pd\n",
        "import numpy as np\n",
        "from sklearn.ensemble import RandomForestRegressor\n",
        "from sklearn.impute import SimpleImputer\n",
        "from sklearn.model_selection import GroupKFold\n",
        "from sklearn.metrics import mean_absolute_error\n",
        "\n",
        "# Load data\n",
        "train_df = pd.read_csv(\"train.csv\")\n",
        "test_df = pd.read_csv(\"test.csv\")\n",
        "sample_submission_df = pd.read_csv(\"sample_submission.csv\")\n"
      ]
    },
    {
      "cell_type": "code",
      "execution_count": 21,
      "id": "899c0baf",
      "metadata": {
        "id": "899c0baf"
      },
      "outputs": [],
      "source": [
        "# Step 1: Aggregate features\n",
        "def aggregate_features(df, is_train=True):\n",
        "    agg_funcs = ['mean', 'std', 'min', 'max']\n",
        "    feature_cols = [col for col in df.columns if col.startswith(\"indicator_\")]\n",
        "\n",
        "    aggregated = df.groupby('asset_id')[feature_cols].agg(agg_funcs)\n",
        "    aggregated.columns = ['_'.join(col).strip() for col in aggregated.columns.values]\n",
        "\n",
        "    if is_train:\n",
        "        static_cols = ['return_on_asset', 'company_age', 'company_size', 'revenue']\n",
        "    else:\n",
        "        static_cols = ['company_age', 'company_size', 'revenue']\n",
        "\n",
        "    static_info = df.groupby('asset_id')[static_cols].first()\n",
        "    return aggregated.join(static_info)\n",
        "\n",
        "train_agg = aggregate_features(train_df, is_train=True)\n",
        "test_agg = aggregate_features(test_df, is_train=False)"
      ]
    },
    {
      "cell_type": "code",
      "execution_count": 22,
      "id": "c89e92a4",
      "metadata": {
        "id": "c89e92a4"
      },
      "outputs": [],
      "source": [
        "# Step 2: Prepare training data\n",
        "X_train = train_agg.drop(columns=[\"return_on_asset\"])\n",
        "y_train = train_agg[\"return_on_asset\"]\n",
        "groups = train_agg.index\n",
        "\n",
        "# Step 3: Impute missing values\n",
        "imputer = SimpleImputer(strategy='mean')\n",
        "X_train_imputed = pd.DataFrame(imputer.fit_transform(X_train), index=X_train.index, columns=X_train.columns)\n",
        "test_agg_imputed = pd.DataFrame(imputer.transform(test_agg), index=test_agg.index, columns=test_agg.columns)\n"
      ]
    },
    {
      "cell_type": "code",
      "execution_count": 6,
      "id": "03aefd0a",
      "metadata": {
        "id": "03aefd0a",
        "outputId": "f62d8483-403b-4923-dd18-92a31bce2194"
      },
      "outputs": [],
      "source": [
        "# Step 4: Cross-validated training\n",
        "# cv = GroupKFold(n_splits=5)\n",
        "# model = RandomForestRegressor(n_estimators=100, random_state=42, n_jobs=1)\n",
        "# cv_scores = []\n",
        "\n",
        "# for train_idx, val_idx in cv.split(X_train_imputed, y_train, groups):\n",
        "#     X_tr, X_val = X_train_imputed.iloc[train_idx], X_train_imputed.iloc[val_idx]\n",
        "#     y_tr, y_val = y_train.iloc[train_idx], y_train.iloc[val_idx]\n",
        "\n",
        "#     model.fit(X_tr, y_tr)\n",
        "#     preds = model.predict(X_val)\n",
        "#     score = mean_absolute_error(y_val, preds)\n",
        "#     cv_scores.append(score)\n",
        "\n",
        "# print(\"CV MAE scores:\", cv_scores)\n",
        "# print(\"Average MAE:\", np.mean(cv_scores))\n"
      ]
    },
    {
      "cell_type": "code",
      "execution_count": 23,
      "id": "c929506c",
      "metadata": {},
      "outputs": [
        {
          "name": "stdout",
          "output_type": "stream",
          "text": [
            "Using Monte Carlo CV with 100 splits...\n",
            "CV MAE scores: [7.3020588235294115, 8.205490196078431, 7.1470588235294095, 7.483137254901964, 6.850980392156862, 7.051960784313725, 6.95078431372549, 6.322058823529412, 7.183529411764706, 7.818039215686277, 7.546764705882351, 7.628529411764707, 7.1793137254901955, 7.238431372549019, 8.012450980392158, 7.611078431372549, 7.109901960784313, 7.404803921568628, 6.6331372549019605, 8.833235294117644, 7.326960784313726, 6.694019607843137, 7.169607843137257, 9.286666666666667, 8.37313725490196, 8.491470588235295, 7.359411764705882, 8.342352941176472, 7.888627450980391, 7.0814705882352955, 8.048039215686272, 7.339215686274509, 7.150686274509804, 8.678235294117645, 6.657156862745098, 7.125, 7.6922549019607835, 6.936862745098041, 7.1225490196078445, 8.966372549019608, 8.041568627450982, 7.584705882352941, 8.457450980392156, 7.632254901960783, 7.842843137254901, 6.3116666666666665, 8.537058823529412, 6.3781372549019615, 6.526176470588235, 7.3623529411764705, 9.668431372549021, 7.424117647058823, 7.47156862745098, 7.176764705882354, 8.686176470588236, 7.31872549019608, 7.908235294117647, 6.738823529411765, 7.07392156862745, 7.368823529411765, 8.204803921568628, 6.492549019607845, 7.49107843137255, 7.8053921568627445, 7.371176470588235, 8.44049019607843, 8.801568627450983, 7.051470588235295, 7.524705882352942, 8.885980392156862, 7.662450980392157, 7.823235294117646, 6.428823529411764, 8.397843137254903, 7.4202941176470585, 7.558235294117647, 7.72735294117647, 8.30343137254902, 6.9377450980392155, 6.334901960784312, 7.103529411764705, 6.803235294117647, 7.347843137254901, 7.3358823529411765, 6.71156862745098, 8.794607843137255, 6.268137254901961, 7.7874509803921566, 6.805098039215685, 6.046960784313725, 7.183333333333332, 6.620392156862746, 7.53421568627451, 6.493431372549018, 6.851274509803922, 7.407058823529413, 7.0013725490196075, 8.14450980392157, 7.490392156862745, 7.796372549019609]\n",
            "Average MAE: 7.4894284313725485\n"
          ]
        }
      ],
      "source": [
        "class MonteCarloCV:\n",
        "    \"\"\"Monte Carlo cross-validation with random splits\"\"\"\n",
        "    def __init__(self, n_splits=100, test_size=0.2, random_state=None):\n",
        "        self.n_splits = n_splits\n",
        "        self.test_size = test_size\n",
        "        self.random_state = random_state\n",
        "        \n",
        "    def split(self, X, y=None, groups=None):\n",
        "        n_samples = len(X)\n",
        "        n_test = int(n_samples * self.test_size)\n",
        "        \n",
        "        if self.random_state is not None:\n",
        "            np.random.seed(self.random_state)\n",
        "        \n",
        "        for i in range(self.n_splits):\n",
        "            # Random test indices\n",
        "            test_indices = np.random.choice(n_samples, n_test, replace=False)\n",
        "            train_indices = np.setdiff1d(np.arange(n_samples), test_indices)\n",
        "            yield train_indices, test_indices\n",
        "print(\"Using Monte Carlo CV with 100 splits...\")\n",
        "# Step 5: Monte Carlo cross-validation training\n",
        "mc_cv = MonteCarloCV(n_splits=100, test_size=0.2, random_state=42)\n",
        "model = RandomForestRegressor(n_estimators=100, random_state=42, n_jobs=1)\n",
        "cv_scores = []\n",
        "for train_idx, val_idx in mc_cv.split(X_train_imputed, y_train, groups):\n",
        "    X_tr, X_val = X_train_imputed.iloc[train_idx], X_train_imputed.iloc[val_idx]\n",
        "    y_tr, y_val = y_train.iloc[train_idx], y_train.iloc[val_idx]\n",
        "\n",
        "    model.fit(X_tr, y_tr)\n",
        "    preds = model.predict(X_val)\n",
        "    score = mean_absolute_error(y_val, preds)\n",
        "    cv_scores.append(score)\n",
        "print(\"CV MAE scores:\", cv_scores)\n",
        "print(\"Average MAE:\", np.mean(cv_scores))\n",
        "\n"
      ]
    },
    {
      "cell_type": "code",
      "execution_count": null,
      "id": "b0d5377d",
      "metadata": {},
      "outputs": [],
      "source": [
        "# from pytorch_tabnet.tab_model import TabNetRegressor\n",
        "\n",
        "# Prepare data (already imputed)\n",
        "# X = X_train_imputed.values\n",
        "# y = y_train.values\n",
        "\n",
        "# TabNet expects numpy arrays for groups as well\n",
        "# groups_arr = np.array(list(groups))\n",
        "\n",
        "# Cross-validation with TabNet\n",
        "# cv = GroupKFold(n_splits=5)\n",
        "# tabnet_scores = []\n",
        "\n",
        "# for train_idx, val_idx in cv.split(X, y, groups_arr):\n",
        "#     X_tr, X_val = X[train_idx], X[val_idx]\n",
        "#     y_tr, y_val = y[train_idx], y[val_idx]\n",
        "\n",
        "#     tabnet = TabNetRegressor(verbose=0, seed=42)\n",
        "#     tabnet.fit(\n",
        "#         X_tr, y_tr.reshape(-1, 1),\n",
        "#         eval_set=[(X_val, y_val.reshape(-1, 1))],\n",
        "#         eval_metric=['mae'],\n",
        "#         max_epochs=200,\n",
        "#         patience=20,\n",
        "#         batch_size=256,\n",
        "#         virtual_batch_size=64\n",
        "#     )\n",
        "#     preds = tabnet.predict(X_val).reshape(-1)\n",
        "#     score = mean_absolute_error(y_val, preds)\n",
        "#     tabnet_scores.append(score)\n",
        "\n",
        "# print(\"TabNet CV MAE scores:\", tabnet_scores)\n",
        "# print(\"TabNet Average MAE:\", np.mean(tabnet_scores))"
      ]
    },
    {
      "cell_type": "code",
      "execution_count": 24,
      "id": "274ddf28",
      "metadata": {},
      "outputs": [],
      "source": [
        "class WindowedTabularDataset(Dataset):\n",
        "    def __init__(self, df, feature_cols, target_col, window_size=5):\n",
        "        self.samples = []\n",
        "        grouped = df.groupby('asset_id')\n",
        "        for _, group in grouped:\n",
        "            group = group.sort_values('timestamp')\n",
        "            X = group[feature_cols].values.astype(np.float32)\n",
        "            y = group[target_col].values.astype(np.float32)\n",
        "            for i in range(len(group) - window_size + 1):\n",
        "                self.samples.append((\n",
        "                    X[i:i+window_size],  # window of features\n",
        "                    y[i+window_size-1]   # predict last value in window\n",
        "                ))\n",
        "\n",
        "    def __len__(self):\n",
        "        return len(self.samples)\n",
        "\n",
        "    def __getitem__(self, idx):\n",
        "        return self.samples[idx]\n",
        "\n",
        "# Example usage:\n",
        "feature_cols = [col for col in train_df.columns if col.startswith(\"indicator_\")]\n",
        "target_col = \"return_on_asset\"\n",
        "window_size = 5\n",
        "windowed_ds = WindowedTabularDataset(train_df, feature_cols, target_col, window_size)\n",
        "windowed_loader = DataLoader(windowed_ds, batch_size=32, shuffle=True)\n"
      ]
    },
    {
      "cell_type": "code",
      "execution_count": 25,
      "id": "2b3f6f60",
      "metadata": {
        "id": "2b3f6f60",
        "outputId": "fbcdd781-3f7a-4556-a0d7-b8060598cfec"
      },
      "outputs": [],
      "source": [
        "import torch\n",
        "from torch.utils.data import DataLoader\n",
        "\n",
        "# Step 5: Final model and prediction\n",
        "\n",
        "# Define ImprovedMLP if not already defined\n",
        "import torch.nn as nn\n",
        "import torch.optim as optim\n",
        "\n",
        "class ImprovedMLP(nn.Module):\n",
        "    def __init__(self, input_dim):\n",
        "        super().__init__()\n",
        "        self.net = nn.Sequential(\n",
        "            nn.Linear(input_dim, 256),\n",
        "            nn.BatchNorm1d(256),\n",
        "            nn.ReLU(),\n",
        "            nn.Dropout(0.4),\n",
        "            nn.Linear(256, 128),\n",
        "            nn.BatchNorm1d(128),\n",
        "            nn.ReLU(),\n",
        "            nn.Dropout(0.3),\n",
        "            nn.Linear(128, 64),\n",
        "            nn.BatchNorm1d(64),\n",
        "            nn.ReLU(),\n",
        "            nn.Dropout(0.2),\n",
        "            nn.Linear(64, 1)\n",
        "        )\n",
        "    def forward(self, x):\n",
        "        return self.net(x)\n",
        "\n",
        "device = torch.device(\"cuda\" if torch.cuda.is_available() else \"cpu\")\n",
        "mlp_final = ImprovedMLP(X_train_imputed.shape[1]).to(device)\n",
        "optimizer = optim.AdamW(mlp_final.parameters(), lr=1e-3, weight_decay=1e-2)\n",
        "criterion = nn.L1Loss()\n",
        "\n",
        "X_full = X_train_imputed.values.astype(np.float32)\n",
        "y_full = y_train.values.astype(np.float32).reshape(-1, 1)\n",
        "full_ds = TabularDataset(X_full, y_full)\n",
        "full_loader = DataLoader(full_ds, batch_size=64, shuffle=True)\n",
        "\n",
        "# Train on all data with early stopping\n",
        "best_loss = float('inf')\n",
        "patience, patience_counter = 10, 0\n",
        "for epoch in range(100):\n",
        "    mlp_final.train()\n",
        "    for xb, yb in full_loader:\n",
        "        xb, yb = xb.to(device), yb.to(device)\n",
        "        optimizer.zero_grad()\n",
        "        preds = mlp_final(xb)\n",
        "        loss = criterion(preds, yb)\n",
        "        loss.backward()\n",
        "        optimizer.step()\n",
        "    # Optionally, compute train loss for early stopping\n",
        "    mlp_final.eval()\n",
        "    train_losses = []\n",
        "    with torch.no_grad():\n",
        "        for xb, yb in full_loader:\n",
        "            xb, yb = xb.to(device), yb.to(device)\n",
        "            preds = mlp_final(xb)\n",
        "            train_losses.append(criterion(preds, yb).item())\n",
        "    train_loss = np.mean(train_losses)\n",
        "    if train_loss < best_loss:\n",
        "        best_loss = train_loss\n",
        "        patience_counter = 0\n",
        "    else:\n",
        "        patience_counter += 1\n",
        "    if patience_counter >= patience:\n",
        "        break\n",
        "\n",
        "# Predict on test set\n",
        "X_test = test_agg_imputed.values.astype(np.float32)\n",
        "mlp_final.eval()\n",
        "with torch.no_grad():\n",
        "    test_preds = mlp_final(torch.from_numpy(X_test).to(device)).cpu().numpy().reshape(-1)\n",
        "\n",
        "\n"
      ]
    },
    {
      "cell_type": "code",
      "execution_count": 27,
      "id": "c8054037",
      "metadata": {},
      "outputs": [
        {
          "name": "stdout",
          "output_type": "stream",
          "text": [
            "Submission file saved as kaggle_sequence_submission.csv\n"
          ]
        }
      ],
      "source": [
        "# Step 6: Create submission file\n",
        "submission = sample_submission_df.copy()\n",
        "submission['return_on_asset'] = submission['asset_id'].map(\n",
        "    dict(zip(test_agg.index, test_preds))\n",
        ").fillna(0)\n",
        "\n",
        "# Save the CSV file\n",
        "submission.to_csv(\"kaggle_sequence_submission.csv\", index=False)\n",
        "print(\"Submission file saved as kaggle_sequence_submission.csv\")"
      ]
    }
  ],
  "metadata": {
    "colab": {
      "provenance": []
    },
    "kernelspec": {
      "display_name": "base",
      "language": "python",
      "name": "python3"
    },
    "language_info": {
      "codemirror_mode": {
        "name": "ipython",
        "version": 3
      },
      "file_extension": ".py",
      "mimetype": "text/x-python",
      "name": "python",
      "nbconvert_exporter": "python",
      "pygments_lexer": "ipython3",
      "version": "3.11.4"
    }
  },
  "nbformat": 4,
  "nbformat_minor": 5
}
